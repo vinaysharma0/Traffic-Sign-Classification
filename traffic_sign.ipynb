{
  "nbformat": 4,
  "nbformat_minor": 0,
  "metadata": {
    "colab": {
      "name": "traffic-sign.ipynb",
      "provenance": [],
      "collapsed_sections": [],
      "toc_visible": true
    },
    "kernelspec": {
      "name": "python3",
      "display_name": "Python 3"
    },
    "accelerator": "GPU"
  },
  "cells": [
    {
      "cell_type": "code",
      "metadata": {
        "id": "6kz3WsQB79NE",
        "colab_type": "code",
        "outputId": "0fe45c7a-6675-4f61-f87a-361a3f521021",
        "colab": {
          "base_uri": "https://localhost:8080/",
          "height": 63
        }
      },
      "source": [
        "from tensorflow.keras.preprocessing.image import ImageDataGenerator\n",
        "from tensorflow.keras.optimizers import Adam\n",
        "from tensorflow.keras.utils import to_categorical\n",
        "from sklearn.metrics import classification_report\n",
        "from skimage import transform\n",
        "from skimage import exposure\n",
        "from skimage import io\n",
        "import matplotlib.pyplot as plt\n",
        "import numpy as np\n",
        "import argparse\n",
        "import random\n",
        "import os\n",
        "import pandas as pd\n",
        "from tqdm import tqdm"
      ],
      "execution_count": 2,
      "outputs": [
        {
          "output_type": "display_data",
          "data": {
            "text/html": [
              "<p style=\"color: red;\">\n",
              "The default version of TensorFlow in Colab will soon switch to TensorFlow 2.x.<br>\n",
              "We recommend you <a href=\"https://www.tensorflow.org/guide/migrate\" target=\"_blank\">upgrade</a> now \n",
              "or ensure your notebook will continue to use TensorFlow 1.x via the <code>%tensorflow_version 1.x</code> magic:\n",
              "<a href=\"https://colab.research.google.com/notebooks/tensorflow_version.ipynb\" target=\"_blank\">more info</a>.</p>\n"
            ],
            "text/plain": [
              "<IPython.core.display.HTML object>"
            ]
          },
          "metadata": {
            "tags": []
          }
        }
      ]
    },
    {
      "cell_type": "code",
      "metadata": {
        "id": "1Toh8LNq4Iti",
        "colab_type": "code",
        "colab": {}
      },
      "source": [
        "def load(csv_path):\n",
        "    data=[]\n",
        "    labels=[]\n",
        "    \n",
        "    rows = open(csv_path).read().strip().split(\"\\n\")[1:]\n",
        "    random.shuffle(rows)\n",
        "    \n",
        "    for i , row in tqdm(enumerate(rows)):\n",
        "        \n",
        "        (label,imagePath) = row.strip().split(\",\")[-2:]\n",
        "        labels.append(int(label))\n",
        "        #imagePath = os.path.sep.join(imagePath)\n",
        "        image = io.imread(imagePath)\n",
        "        image = transform.resize(image,(32,32))\n",
        "        image = exposure.equalize_adapthist(image, clip_limit=0.1) #CHLAE\n",
        "        \n",
        "        data.append(image)\n",
        "    labels = np.array(labels)\n",
        "    data = np.array(data)    \n",
        "    \n",
        "    return (data,labels)\n"
      ],
      "execution_count": 0,
      "outputs": []
    },
    {
      "cell_type": "code",
      "metadata": {
        "id": "4yw1na9S4TWj",
        "colab_type": "code",
        "outputId": "8556da2a-a672-47d5-d105-3990bb30b061",
        "colab": {
          "base_uri": "https://localhost:8080/",
          "height": 765
        }
      },
      "source": [
        "label_names = open('signnames.csv').read().strip().split(\",\")[1:]\n",
        "label_names = [l.split(\",\")[0] for l in label_names]\n",
        "label_names"
      ],
      "execution_count": 25,
      "outputs": [
        {
          "output_type": "execute_result",
          "data": {
            "text/plain": [
              "['SignName\\n0',\n",
              " 'Speed limit (20km/h)\\n1',\n",
              " 'Speed limit (30km/h)\\n2',\n",
              " 'Speed limit (50km/h)\\n3',\n",
              " 'Speed limit (60km/h)\\n4',\n",
              " 'Speed limit (70km/h)\\n5',\n",
              " 'Speed limit (80km/h)\\n6',\n",
              " 'End of speed limit (80km/h)\\n7',\n",
              " 'Speed limit (100km/h)\\n8',\n",
              " 'Speed limit (120km/h)\\n9',\n",
              " 'No passing\\n10',\n",
              " 'No passing for vehicles over 3.5 metric tons\\n11',\n",
              " 'Right-of-way at the next intersection\\n12',\n",
              " 'Priority road\\n13',\n",
              " 'Yield\\n14',\n",
              " 'Stop\\n15',\n",
              " 'No vehicles\\n16',\n",
              " 'Vehicles over 3.5 metric tons prohibited\\n17',\n",
              " 'No entry\\n18',\n",
              " 'General caution\\n19',\n",
              " 'Dangerous curve to the left\\n20',\n",
              " 'Dangerous curve to the right\\n21',\n",
              " 'Double curve\\n22',\n",
              " 'Bumpy road\\n23',\n",
              " 'Slippery road\\n24',\n",
              " 'Road narrows on the right\\n25',\n",
              " 'Road work\\n26',\n",
              " 'Traffic signals\\n27',\n",
              " 'Pedestrians\\n28',\n",
              " 'Children crossing\\n29',\n",
              " 'Bicycles crossing\\n30',\n",
              " 'Beware of ice/snow\\n31',\n",
              " 'Wild animals crossing\\n32',\n",
              " 'End of all speed and passing limits\\n33',\n",
              " 'Turn right ahead\\n34',\n",
              " 'Turn left ahead\\n35',\n",
              " 'Ahead only\\n36',\n",
              " 'Go straight or right\\n37',\n",
              " 'Go straight or left\\n38',\n",
              " 'Keep right\\n39',\n",
              " 'Keep left\\n40',\n",
              " 'Roundabout mandatory\\n41',\n",
              " 'End of no passing\\n42',\n",
              " 'End of no passing by vehicles over 3.5 metric tons']"
            ]
          },
          "metadata": {
            "tags": []
          },
          "execution_count": 25
        }
      ]
    },
    {
      "cell_type": "code",
      "metadata": {
        "id": "te_z6yTDNHGr",
        "colab_type": "code",
        "colab": {
          "base_uri": "https://localhost:8080/",
          "height": 34
        },
        "outputId": "746225ab-f621-46ba-ad1b-289c44e664aa"
      },
      "source": [
        "train_path = 'Train.csv'\n",
        "test_path = 'Test.csv'\n",
        "\n",
        "\n",
        "# import tensorflow as tf\n",
        "# tf.debugging.set_log_device_placement(True)\n",
        "\n",
        "trainX,trainY = load(train_path)"
      ],
      "execution_count": 5,
      "outputs": [
        {
          "output_type": "stream",
          "text": [
            "39209it [13:15, 49.26it/s]\n"
          ],
          "name": "stderr"
        }
      ]
    },
    {
      "cell_type": "code",
      "metadata": {
        "id": "9-txt-JJNQU5",
        "colab_type": "code",
        "colab": {
          "base_uri": "https://localhost:8080/",
          "height": 34
        },
        "outputId": "88ae5331-13cf-404d-c8a7-3ecdd9ab9bec"
      },
      "source": [
        "import tensorflow as tf\n",
        "tf.test.gpu_device_name()"
      ],
      "execution_count": 9,
      "outputs": [
        {
          "output_type": "execute_result",
          "data": {
            "text/plain": [
              "'/device:GPU:0'"
            ]
          },
          "metadata": {
            "tags": []
          },
          "execution_count": 9
        }
      ]
    },
    {
      "cell_type": "code",
      "metadata": {
        "id": "AKk5kGTbOk8w",
        "colab_type": "code",
        "colab": {
          "base_uri": "https://localhost:8080/",
          "height": 476
        },
        "outputId": "7043d8bb-bfc2-41ca-fe68-1c0f1ee2853c"
      },
      "source": [
        "from tensorflow.python.client import device_lib\n",
        "device_lib.list_local_devices()"
      ],
      "execution_count": 10,
      "outputs": [
        {
          "output_type": "execute_result",
          "data": {
            "text/plain": [
              "[name: \"/device:CPU:0\"\n",
              " device_type: \"CPU\"\n",
              " memory_limit: 268435456\n",
              " locality {\n",
              " }\n",
              " incarnation: 4695493038377327628, name: \"/device:XLA_CPU:0\"\n",
              " device_type: \"XLA_CPU\"\n",
              " memory_limit: 17179869184\n",
              " locality {\n",
              " }\n",
              " incarnation: 5461905013131497531\n",
              " physical_device_desc: \"device: XLA_CPU device\", name: \"/device:XLA_GPU:0\"\n",
              " device_type: \"XLA_GPU\"\n",
              " memory_limit: 17179869184\n",
              " locality {\n",
              " }\n",
              " incarnation: 8744643665320766056\n",
              " physical_device_desc: \"device: XLA_GPU device\", name: \"/device:GPU:0\"\n",
              " device_type: \"GPU\"\n",
              " memory_limit: 7470045594\n",
              " locality {\n",
              "   bus_id: 1\n",
              "   links {\n",
              "   }\n",
              " }\n",
              " incarnation: 2627809937896014017\n",
              " physical_device_desc: \"device: 0, name: Tesla P4, pci bus id: 0000:00:04.0, compute capability: 6.1\"]"
            ]
          },
          "metadata": {
            "tags": []
          },
          "execution_count": 10
        }
      ]
    },
    {
      "cell_type": "code",
      "metadata": {
        "id": "obaf7Ty5PVAb",
        "colab_type": "code",
        "colab": {
          "base_uri": "https://localhost:8080/",
          "height": 34
        },
        "outputId": "5249ec4b-f49c-4ef8-de9a-0a7875216ad9"
      },
      "source": [
        "testX,testY = load(test_path)"
      ],
      "execution_count": 6,
      "outputs": [
        {
          "output_type": "stream",
          "text": [
            "12630it [04:20, 48.52it/s]\n"
          ],
          "name": "stderr"
        }
      ]
    },
    {
      "cell_type": "code",
      "metadata": {
        "id": "weeBSCoVPYzP",
        "colab_type": "code",
        "colab": {}
      },
      "source": [
        "trainX = trainX / 255\n",
        "testX = testX / 255\n",
        "\n",
        "# one-hot encode the training and testing labels\n",
        "numLabels = len(np.unique(trainY))\n",
        "trainY = to_categorical(trainY, numLabels)\n",
        "testY = to_categorical(testY, numLabels)\n",
        "\n",
        "# account for skew in the labeled data\n",
        "classTotals = trainY.sum(axis=0)\n",
        "classWeight = classTotals.max() / classTotals"
      ],
      "execution_count": 0,
      "outputs": []
    },
    {
      "cell_type": "code",
      "metadata": {
        "id": "k_Gt-5bpPcdw",
        "colab_type": "code",
        "colab": {}
      },
      "source": [
        "# import the necessary packages\n",
        "from tensorflow.keras.models import Sequential\n",
        "from tensorflow.keras.layers import BatchNormalization\n",
        "from tensorflow.keras.layers import Conv2D\n",
        "from tensorflow.keras.layers import MaxPooling2D\n",
        "from tensorflow.keras.layers import Activation\n",
        "from tensorflow.keras.layers import Flatten\n",
        "from tensorflow.keras.layers import Dropout\n",
        "from tensorflow.keras.layers import Dense"
      ],
      "execution_count": 0,
      "outputs": []
    },
    {
      "cell_type": "code",
      "metadata": {
        "id": "XmM_4t51PfD4",
        "colab_type": "code",
        "colab": {
          "base_uri": "https://localhost:8080/",
          "height": 88
        },
        "outputId": "f4189867-7fca-4aa6-e2c3-a727620ba073"
      },
      "source": [
        "model = Sequential()\n",
        "inputShape = (32, 32, 3)\n",
        "chanDim = -1\n",
        "# CONV => RELU => BN => POOL\n",
        "model.add(Conv2D(8, (5, 5), padding=\"same\",input_shape=inputShape))\n",
        "model.add(Activation(\"relu\"))\n",
        "model.add(BatchNormalization(axis=chanDim))\n",
        "model.add(MaxPooling2D(pool_size=(2, 2)))\n",
        "\t\t# first set of (CONV => RELU => CONV => RELU) * 2 => POOL\n",
        "model.add(Conv2D(16, (3, 3), padding=\"same\"))\n",
        "model.add(Activation(\"relu\"))\n",
        "model.add(BatchNormalization(axis=chanDim))\n",
        "model.add(Conv2D(16, (3, 3), padding=\"same\"))\n",
        "model.add(Activation(\"relu\"))\n",
        "model.add(BatchNormalization(axis=chanDim))\n",
        "model.add(MaxPooling2D(pool_size=(2, 2)))\n",
        "\t\t# second set of (CONV => RELU => CONV => RELU) * 2 => POOL\n",
        "model.add(Conv2D(32, (3, 3), padding=\"same\"))\n",
        "model.add(Activation(\"relu\"))\n",
        "model.add(BatchNormalization(axis=chanDim))\n",
        "model.add(Conv2D(32, (3, 3), padding=\"same\"))\n",
        "model.add(Activation(\"relu\"))\n",
        "model.add(BatchNormalization(axis=chanDim))\n",
        "model.add(MaxPooling2D(pool_size=(2, 2)))\n",
        "\n",
        "\t\t# first set of FC => RELU layers\n",
        "model.add(Flatten())\n",
        "model.add(Dense(128))\n",
        "model.add(Activation(\"relu\"))\n",
        "model.add(BatchNormalization())\n",
        "model.add(Dropout(0.5))\n",
        "\n",
        "\t\t# second set of FC => RELU layers\n",
        "model.add(Flatten())\n",
        "model.add(Dense(128))\n",
        "model.add(Activation(\"relu\"))\n",
        "model.add(BatchNormalization())\n",
        "model.add(Dropout(0.5))\n",
        "\n",
        "\t\t# softmax classifier\n",
        "model.add(Dense(numLabels))\n",
        "model.add(Activation(\"softmax\"))\n",
        "        "
      ],
      "execution_count": 9,
      "outputs": [
        {
          "output_type": "stream",
          "text": [
            "WARNING:tensorflow:From /usr/local/lib/python3.6/dist-packages/tensorflow_core/python/ops/resource_variable_ops.py:1630: calling BaseResourceVariable.__init__ (from tensorflow.python.ops.resource_variable_ops) with constraint is deprecated and will be removed in a future version.\n",
            "Instructions for updating:\n",
            "If using Keras pass *_constraint arguments to layers.\n"
          ],
          "name": "stdout"
        }
      ]
    },
    {
      "cell_type": "code",
      "metadata": {
        "id": "BU5NIVgXPiQD",
        "colab_type": "code",
        "colab": {}
      },
      "source": [
        "model.compile(loss=\"categorical_crossentropy\", optimizer='adam',metrics=[\"accuracy\"])"
      ],
      "execution_count": 0,
      "outputs": []
    },
    {
      "cell_type": "code",
      "metadata": {
        "id": "KxT4q5ZxPk3R",
        "colab_type": "code",
        "colab": {}
      },
      "source": [
        "aug = ImageDataGenerator(\n",
        "\trotation_range=10,\n",
        "\tzoom_range=0.15,\n",
        "\twidth_shift_range=0.1,\n",
        "\theight_shift_range=0.1,\n",
        "\tshear_range=0.15,\n",
        "\thorizontal_flip=False,\n",
        "\tvertical_flip=False,\n",
        "\tfill_mode=\"nearest\")"
      ],
      "execution_count": 0,
      "outputs": []
    },
    {
      "cell_type": "code",
      "metadata": {
        "id": "_ESaPMLazQD1",
        "colab_type": "code",
        "colab": {
          "base_uri": "https://localhost:8080/",
          "height": 544
        },
        "outputId": "43d107a0-6d57-446a-fbd3-0ea8ecc1456e"
      },
      "source": [
        "model.fit_generator(\n",
        "\taug.flow(trainX, trainY, batch_size=64),\n",
        "\tvalidation_data=(testX, testY),\n",
        "\tsteps_per_epoch=trainX.shape[0],\n",
        "\tepochs=10,\n",
        "\tclass_weight=classWeight)"
      ],
      "execution_count": 16,
      "outputs": [
        {
          "output_type": "stream",
          "text": [
            "Epoch 1/10\n",
            "39208/39209 [============================>.] - ETA: 0s - loss: 0.1133 - acc: 0.9647Epoch 1/10\n",
            "39209/39209 [==============================] - 1407s 36ms/step - loss: 0.1133 - acc: 0.9647 - val_loss: 0.1148 - val_acc: 0.9648\n",
            "Epoch 2/10\n",
            "39207/39209 [============================>.] - ETA: 0s - loss: 0.0535 - acc: 0.9837Epoch 1/10\n",
            "39209/39209 [==============================] - 1378s 35ms/step - loss: 0.0535 - acc: 0.9837 - val_loss: 0.6603 - val_acc: 0.8404\n",
            "Epoch 3/10\n",
            "39207/39209 [============================>.] - ETA: 0s - loss: 0.0395 - acc: 0.9879Epoch 1/10\n",
            "39209/39209 [==============================] - 1382s 35ms/step - loss: 0.0395 - acc: 0.9879 - val_loss: 0.5938 - val_acc: 0.8591\n",
            "Epoch 4/10\n",
            "39208/39209 [============================>.] - ETA: 0s - loss: 0.0330 - acc: 0.9900Epoch 1/10\n",
            "39209/39209 [==============================] - 1379s 35ms/step - loss: 0.0330 - acc: 0.9900 - val_loss: 1.3200 - val_acc: 0.7562\n",
            "Epoch 5/10\n",
            "39207/39209 [============================>.] - ETA: 0s - loss: 0.0288 - acc: 0.9913Epoch 1/10\n",
            "39209/39209 [==============================] - 1381s 35ms/step - loss: 0.0288 - acc: 0.9913 - val_loss: 0.4482 - val_acc: 0.9034\n",
            "Epoch 6/10\n",
            "39208/39209 [============================>.] - ETA: 0s - loss: 0.0259 - acc: 0.9921Epoch 1/10\n",
            "39209/39209 [==============================] - 1376s 35ms/step - loss: 0.0259 - acc: 0.9921 - val_loss: 7.9615 - val_acc: 0.2053\n",
            "Epoch 7/10\n",
            "39208/39209 [============================>.] - ETA: 0s - loss: 0.0235 - acc: 0.9928Epoch 1/10\n",
            "39209/39209 [==============================] - 1387s 35ms/step - loss: 0.0235 - acc: 0.9928 - val_loss: 1.1751 - val_acc: 0.7959\n",
            "Epoch 8/10\n",
            "39207/39209 [============================>.] - ETA: 0s - loss: 0.0217 - acc: 0.9934Epoch 1/10\n",
            "39209/39209 [==============================] - 1387s 35ms/step - loss: 0.0217 - acc: 0.9934 - val_loss: 0.1697 - val_acc: 0.9600\n",
            "Epoch 9/10\n",
            "39207/39209 [============================>.] - ETA: 0s - loss: 0.0205 - acc: 0.9937Epoch 1/10\n",
            "39209/39209 [==============================] - 1380s 35ms/step - loss: 0.0205 - acc: 0.9937 - val_loss: 0.1800 - val_acc: 0.9589\n",
            "Epoch 10/10\n",
            "39208/39209 [============================>.] - ETA: 0s - loss: 0.0193 - acc: 0.9941Epoch 1/10\n",
            "39209/39209 [==============================] - 1341s 34ms/step - loss: 0.0193 - acc: 0.9941 - val_loss: 1.3848 - val_acc: 0.7508\n"
          ],
          "name": "stdout"
        },
        {
          "output_type": "execute_result",
          "data": {
            "text/plain": [
              "<tensorflow.python.keras.callbacks.History at 0x7f3a66e2aa58>"
            ]
          },
          "metadata": {
            "tags": []
          },
          "execution_count": 16
        }
      ]
    },
    {
      "cell_type": "code",
      "metadata": {
        "id": "7f_aSaHmPlW6",
        "colab_type": "code",
        "colab": {}
      },
      "source": [
        "model.save('traffic-sign-classification.h5')"
      ],
      "execution_count": 0,
      "outputs": []
    },
    {
      "cell_type": "code",
      "metadata": {
        "id": "g0Per9e8PlUX",
        "colab_type": "code",
        "colab": {}
      },
      "source": [
        "from imutils import paths"
      ],
      "execution_count": 0,
      "outputs": []
    },
    {
      "cell_type": "code",
      "metadata": {
        "id": "4E6w0VS5PlRt",
        "colab_type": "code",
        "colab": {}
      },
      "source": [
        "imgPaths = list(paths.list_images(\"Test\"))\n",
        "random.shuffle(imgPaths)"
      ],
      "execution_count": 0,
      "outputs": []
    },
    {
      "cell_type": "code",
      "metadata": {
        "id": "kpj_R4nRPlPK",
        "colab_type": "code",
        "colab": {}
      },
      "source": [
        "imgPaths = imgPaths[:5]"
      ],
      "execution_count": 0,
      "outputs": []
    },
    {
      "cell_type": "code",
      "metadata": {
        "id": "LdTdiUc4r_gQ",
        "colab_type": "code",
        "colab": {}
      },
      "source": [
        "import cv2\n",
        "import imutils\n",
        "from google.colab.patches import cv2_imshow"
      ],
      "execution_count": 0,
      "outputs": []
    },
    {
      "cell_type": "code",
      "metadata": {
        "id": "eBDW_QTDPlLg",
        "colab_type": "code",
        "colab": {
          "base_uri": "https://localhost:8080/",
          "height": 1000
        },
        "outputId": "b5ba2eb2-d9b7-4833-c79f-acd294993de9"
      },
      "source": [
        "for (i,imgPath) in enumerate(imgPaths):\n",
        "    image = io.imread(imgPath)\n",
        "    image = transform.resize(image,(32,32))\n",
        "    image = exposure.equalize_adapthist(image,clip_limit=0.1)\n",
        "\n",
        "    image = image.astype(\"float32\") / 255.0\n",
        "    image = np.expand_dims(image,axis=0)\n",
        "\n",
        "    preds = model.predict(image)\n",
        "    print(\"preds : \",preds)\n",
        "    j = preds.argmax(axis=1)[0]\n",
        "    print(\"J : \",j)\n",
        "    label = label_names[j]\n",
        "    print(\"label : \",label)\n",
        "\n",
        "    image = cv2.imread(imgPath)\n",
        "    image = imutils.resize(image,width=128)\n",
        "    cv2.putText(image,label,(5,15),cv2.FONT_HERSHEY_SIMPLEX,0.45,(0,0,255),2)\n",
        "    cv2_imshow(image)"
      ],
      "execution_count": 37,
      "outputs": [
        {
          "output_type": "stream",
          "text": [
            "preds :  [[1.9766418e-07 2.1853783e-05 9.9993873e-01 3.1658772e-06 3.1919583e-06\n",
            "  5.3722474e-06 1.6294289e-11 5.9551639e-09 1.3594403e-08 1.0207462e-08\n",
            "  5.1174633e-09 1.3183324e-10 2.9559615e-11 9.0941249e-10 3.1496086e-10\n",
            "  1.7696261e-11 4.0271218e-13 3.8188484e-14 1.0630954e-09 1.8568203e-08\n",
            "  7.3333334e-10 4.1147163e-07 5.7900173e-12 1.7125802e-05 1.8902366e-10\n",
            "  8.3226075e-09 1.1878788e-10 5.3883098e-09 1.2797558e-08 6.5961676e-09\n",
            "  2.3528504e-10 6.3220895e-10 3.5934515e-12 1.4739785e-09 4.2181728e-10\n",
            "  1.5466066e-08 4.9362985e-09 5.1250169e-08 5.8492027e-08 4.6185493e-11\n",
            "  9.5654741e-06 2.8922797e-09 1.9131811e-11]]\n",
            "J :  2\n",
            "label :  Speed limit (30km/h)\n",
            "2\n"
          ],
          "name": "stdout"
        },
        {
          "output_type": "display_data",
          "data": {
            "image/png": "[encoded data removed]",
            "text/plain": [
              "<PIL.Image.Image image mode=RGB size=128x130 at 0x7F3A68F95588>"
            ]
          },
          "metadata": {
            "tags": []
          }
        },
        {
          "output_type": "stream",
          "text": [
            "preds :  [[2.7440379e-09 1.1988546e-05 8.4304092e-03 9.9089348e-01 1.6229142e-08\n",
            "  6.5853901e-04 1.8920522e-08 2.4467687e-07 2.3001625e-09 9.2689874e-08\n",
            "  2.2254101e-08 6.5854175e-09 2.3471109e-11 1.5530703e-09 1.8898800e-09\n",
            "  1.7728908e-09 2.4757840e-10 9.4523727e-13 1.6470729e-08 4.0679321e-11\n",
            "  7.7755926e-09 5.0043818e-09 2.5922138e-11 1.3179668e-07 5.4459640e-12\n",
            "  8.0070645e-10 1.6968511e-10 2.3558009e-09 2.3785442e-06 2.2552003e-07\n",
            "  3.4961349e-09 1.3245088e-11 1.2952401e-09 3.5448062e-07 1.2695672e-10\n",
            "  7.8914146e-09 1.8368575e-06 8.8822205e-10 9.1713108e-09 1.3532743e-09\n",
            "  2.6129061e-07 1.2823881e-10 4.8347482e-09]]\n",
            "J :  3\n",
            "label :  Speed limit (50km/h)\n",
            "3\n"
          ],
          "name": "stdout"
        },
        {
          "output_type": "display_data",
          "data": {
            "image/png": "[encoded data removed]",
            "text/plain": [
              "<PIL.Image.Image image mode=RGB size=128x123 at 0x7F3A68F95A90>"
            ]
          },
          "metadata": {
            "tags": []
          }
        },
        {
          "output_type": "stream",
          "text": [
            "preds :  [[6.84479487e-11 2.66894351e-09 9.67904512e-09 1.49338135e-07\n",
            "  2.70932556e-08 1.38377496e-08 1.22901715e-11 1.24819941e-08\n",
            "  2.14551354e-09 1.60822509e-07 1.99949266e-08 4.35198277e-09\n",
            "  2.79137402e-09 9.99997854e-01 2.66329664e-07 1.33204333e-06\n",
            "  2.92640760e-12 4.55862736e-10 3.62987223e-08 5.53632140e-11\n",
            "  3.30094396e-10 1.44017975e-09 7.57531260e-11 1.89450289e-10\n",
            "  3.59285496e-12 1.13140132e-07 8.39111058e-10 2.34819220e-10\n",
            "  1.53838418e-11 8.58898563e-10 1.17743419e-11 7.74851350e-10\n",
            "  1.72770900e-08 1.61959353e-08 1.76194881e-09 1.16840382e-09\n",
            "  3.68891739e-09 2.93593990e-12 5.70847458e-09 7.81915255e-10\n",
            "  3.63933800e-10 1.76765436e-09 1.78897541e-09]]\n",
            "J :  13\n",
            "label :  Priority road\n",
            "13\n"
          ],
          "name": "stdout"
        },
        {
          "output_type": "display_data",
          "data": {
            "image/png": "[encoded data removed]",
            "text/plain": [
              "<PIL.Image.Image image mode=RGB size=128x108 at 0x7F3A68F95C50>"
            ]
          },
          "metadata": {
            "tags": []
          }
        },
        {
          "output_type": "stream",
          "text": [
            "preds :  [[3.45995654e-09 2.31383339e-07 1.10359979e-08 2.65332667e-09\n",
            "  1.66551928e-07 8.32247937e-10 6.23961216e-10 3.46942848e-08\n",
            "  1.82498427e-09 1.33655533e-07 9.33945588e-10 7.32445216e-08\n",
            "  1.32723665e-06 9.99996305e-01 3.49762502e-07 3.03557130e-07\n",
            "  8.38168771e-11 1.80085902e-09 4.66523232e-07 2.55305199e-09\n",
            "  3.16114268e-09 2.32625674e-09 1.02480316e-10 2.72053491e-10\n",
            "  2.44290338e-10 1.51679131e-08 1.48436130e-09 8.71066164e-10\n",
            "  9.26063948e-11 6.88959612e-10 7.05918874e-12 8.12803047e-10\n",
            "  1.00366535e-07 2.31981581e-08 4.88202945e-09 3.94604136e-08\n",
            "  1.15049396e-07 4.69368377e-10 6.48523226e-08 3.73167675e-09\n",
            "  8.26862703e-08 1.69646341e-07 3.59385055e-08]]\n",
            "J :  13\n",
            "label :  Priority road\n",
            "13\n"
          ],
          "name": "stdout"
        },
        {
          "output_type": "display_data",
          "data": {
            "image/png": "[encoded data removed]",
            "text/plain": [
              "<PIL.Image.Image image mode=RGB size=128x118 at 0x7F3A68F959B0>"
            ]
          },
          "metadata": {
            "tags": []
          }
        },
        {
          "output_type": "stream",
          "text": [
            "preds :  [[1.22968597e-11 3.21467752e-07 2.49423437e-09 7.07062764e-09\n",
            "  2.48883367e-07 1.99297617e-07 1.17613506e-11 9.99996424e-01\n",
            "  2.65206336e-06 3.70831033e-10 1.01197578e-10 2.71809214e-10\n",
            "  2.15791916e-11 2.93368418e-09 1.22139365e-09 3.08913037e-08\n",
            "  3.08402304e-10 4.33139939e-12 2.23179073e-13 1.36994555e-13\n",
            "  7.55503906e-12 1.92399807e-12 7.99713418e-14 1.13821806e-14\n",
            "  9.82828402e-13 1.12354115e-12 2.23994041e-13 1.01370952e-12\n",
            "  1.40177561e-12 9.81550778e-13 7.42147455e-11 3.73197046e-12\n",
            "  2.17039941e-13 1.66865224e-08 2.94921466e-12 2.84317058e-12\n",
            "  5.76572297e-11 3.56036950e-13 8.94023258e-11 1.22786614e-09\n",
            "  9.04535388e-12 3.10061260e-15 1.48219645e-10]]\n",
            "J :  7\n",
            "label :  End of speed limit (80km/h)\n",
            "7\n"
          ],
          "name": "stdout"
        },
        {
          "output_type": "display_data",
          "data": {
            "image/png": "[encoded data removed]",
            "text/plain": [
              "<PIL.Image.Image image mode=RGB size=128x135 at 0x7F3A68F95588>"
            ]
          },
          "metadata": {
            "tags": []
          }
        }
      ]
    }
  ]
}